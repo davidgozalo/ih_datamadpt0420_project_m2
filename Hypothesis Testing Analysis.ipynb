{
 "cells": [
  {
   "cell_type": "code",
   "execution_count": 1,
   "metadata": {},
   "outputs": [],
   "source": [
    "import pandas as pd"
   ]
  },
  {
   "cell_type": "code",
   "execution_count": 2,
   "metadata": {},
   "outputs": [],
   "source": [
    "import numpy as np"
   ]
  },
  {
   "cell_type": "code",
   "execution_count": 11,
   "metadata": {},
   "outputs": [],
   "source": [
    "from scipy.stats import t, ttest_1samp, ttest_ind"
   ]
  },
  {
   "cell_type": "code",
   "execution_count": 3,
   "metadata": {},
   "outputs": [],
   "source": [
    "data = pd.read_csv(\"diamonds_train.csv\") \n",
    "#We import the data"
   ]
  },
  {
   "cell_type": "code",
   "execution_count": null,
   "metadata": {},
   "outputs": [],
   "source": [
    "# First test\n",
    "\"\"\"\"\n",
    "Test 1 - one sample vs constant hypothesis test. We know from the available literature\n",
    "that diamonds average price rounds about 4000 USD. The aim is to test whether the prices\n",
    "in our sample are significantly different from the literature value. \n",
    "Give some conclusions about the implications of your test results\n"
   ]
  },
  {
   "cell_type": "code",
   "execution_count": null,
   "metadata": {},
   "outputs": [],
   "source": [
    "print(data[\"price\"].mean())"
   ]
  },
  {
   "cell_type": "code",
   "execution_count": 28,
   "metadata": {},
   "outputs": [
    {
     "data": {
      "text/plain": [
       "-3.604902369125729"
      ]
     },
     "metadata": {},
     "output_type": "display_data"
    },
    {
     "data": {
      "text/plain": [
       "0.00031264532833074845"
      ]
     },
     "metadata": {},
     "output_type": "display_data"
    }
   ],
   "source": [
    "test_results = ttest_1samp(data['price'],4000)\n",
    "display(test_results.statistic)\n",
    "display(test_results.pvalue)"
   ]
  },
  {
   "cell_type": "code",
   "execution_count": null,
   "metadata": {},
   "outputs": [],
   "source": [
    "# Conclusions\n",
    "# The p-value is lower than 0.05, so we can reject the null hypothesis and assume that the prices in our\n",
    "# sample are significantly different from the litterature value. Moreover, since the t value appears at the left\n",
    "# side, and p/2 is still lower than 0.05, we can presume that our average value is significantly lower than the\n",
    "# literature value. \n",
    "\n",
    "# this brings into my mind an interesting quote:\n",
    "# “Reality is not an inspiration for literature. At its best, literature is an inspiration for reality\" (Romain Gary)"
   ]
  },
  {
   "cell_type": "code",
   "execution_count": null,
   "metadata": {},
   "outputs": [],
   "source": [
    "#Second test\n",
    "\"\"\"\"\n",
    "Test 2 - two independent samples. Our sample includes diamonds with different features (carat, cut, color clarity, etc.).\n",
    "It seems clear that the carat plays an important role in price. However, it's not that clear whether the prices of some \n",
    "\"sub-groups\" are significantly different from each other. \n",
    "This is  the \"sub-groups\" that you might feel suspicious about it:\n",
    "Sub-Test 4: Premium cut + color D vs. Premium cut + color E"
   ]
  },
  {
   "cell_type": "code",
   "execution_count": null,
   "metadata": {},
   "outputs": [],
   "source": [
    "datasub_D=data[(data[\"color\"]==\"D\")&(data[\"cut\"]==\"Premium\")]"
   ]
  },
  {
   "cell_type": "code",
   "execution_count": null,
   "metadata": {},
   "outputs": [],
   "source": [
    "datasub_D[\"price\"].mean()"
   ]
  },
  {
   "cell_type": "code",
   "execution_count": null,
   "metadata": {},
   "outputs": [],
   "source": [
    "datasub_E=data[(data[\"color\"]==\"E\")&(data[\"cut\"]==\"Premium\")]"
   ]
  },
  {
   "cell_type": "code",
   "execution_count": null,
   "metadata": {},
   "outputs": [],
   "source": [
    "datasub_E[\"price\"].mean()"
   ]
  },
  {
   "cell_type": "code",
   "execution_count": null,
   "metadata": {},
   "outputs": [],
   "source": [
    "Sample_premium_d=datasub_D[\"price\"]\n",
    "Sample_premium_e=datasub_E[\"price\"]"
   ]
  },
  {
   "cell_type": "code",
   "execution_count": 29,
   "metadata": {},
   "outputs": [
    {
     "data": {
      "text/plain": [
       "0.4238712765446736"
      ]
     },
     "metadata": {},
     "output_type": "display_data"
    },
    {
     "data": {
      "text/plain": [
       "0.6716959865958436"
      ]
     },
     "metadata": {},
     "output_type": "display_data"
    }
   ],
   "source": [
    "test_results=ttest_ind(Sample_premium_d, Sample_premium_e, equal_var=False)\n",
    "display(test_results.statistic)\n",
    "display(test_results.pvalue)"
   ]
  },
  {
   "cell_type": "code",
   "execution_count": null,
   "metadata": {},
   "outputs": [],
   "source": [
    "# Conclusions\n",
    "# The p-value is higher than 0.05, so we cannot reject the null hypothesis. This means that we cannot afirm that\n",
    "# average price in those subgroups of diamonds is significantly different"
   ]
  }
 ],
 "metadata": {
  "kernelspec": {
   "display_name": "Python [conda env:ironhack]",
   "language": "python",
   "name": "conda-env-ironhack-py"
  },
  "language_info": {
   "codemirror_mode": {
    "name": "ipython",
    "version": 3
   },
   "file_extension": ".py",
   "mimetype": "text/x-python",
   "name": "python",
   "nbconvert_exporter": "python",
   "pygments_lexer": "ipython3",
   "version": "3.7.7"
  }
 },
 "nbformat": 4,
 "nbformat_minor": 4
}
